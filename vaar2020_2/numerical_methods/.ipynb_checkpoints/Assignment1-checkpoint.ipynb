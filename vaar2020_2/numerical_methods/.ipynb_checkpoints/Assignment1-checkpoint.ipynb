{
 "cells": [
  {
   "cell_type": "markdown",
   "metadata": {},
   "source": [
    "# Assignment 1 - Part 2\n",
    "\n",
    "<div class=\"alert alert-block alert-warning\">\n",
    "    Below we import <a href=\"https://github.com/HIPS/autograd\">autograd</a>. If you get an error saying you don't have it, you will need to install it with pip, using\n",
    "<pre>\n",
    "pip install autograd\n",
    "</pre>\n",
    "</div>"
   ]
  },
  {
   "cell_type": "code",
   "execution_count": 260,
   "metadata": {},
   "outputs": [],
   "source": [
    "import  autograd.numpy as np\n",
    "import matplotlib.pyplot as plt\n",
    "from autograd import jacobian"
   ]
  },
  {
   "cell_type": "markdown",
   "metadata": {},
   "source": [
    "## Newton's Method\n",
    "\n",
    "We want to approximate solutions of nonlinear equation in __two variables__ using Newton's method.\n",
    "\n",
    "Newton's method is implemented below.\n",
    "\n",
    "Implement a stopping criterion. That is, given some tolerance $TOL$, end the method when $\\mathbf{x}^k:=(x_1^k,x_2^k)$ satisfies $\\|F(\\mathbf{x}^k)\\|_2\\le TOL$ or $\\|\\mathbf{x}^{k+1}-\\mathbf{x}^k\\|_2\\le TOL$.\n",
    "\n",
    "Provide numerial evidence that your code works as it should by printing the values of $\\|F(\\mathbf{x}^k)\\|_2$ for each iteration, and by making a plot of $\\|F(\\mathbf{x}^k)\\|_2$, $\\|\\mathbf{x}^{k+1}-\\mathbf{x}^k\\|_2$, for all $k$.\n",
    "\n",
    "Now, verify numerically the convergence is quadratic. You will need a reference solution, and one can do this in two ways:\n",
    "\n",
    " - Consider a problem for which you know an exact solution, and use said solution as a reference solution,\n",
    " - or for your problem, should you not know a solution, use the method to obtain an extremely accurate result which you use as a reference solution"
   ]
  },
  {
   "cell_type": "code",
   "execution_count": 271,
   "metadata": {},
   "outputs": [
    {
     "data": {
      "text/plain": [
       "[1.0020680343369088,\n",
       " 1.003111723477662,\n",
       " 1.004689294242083,\n",
       " 1.0070826084397848,\n",
       " 1.0107328136162643,\n",
       " 1.0163422291520503,\n",
       " 1.0250533231399768,\n",
       " 1.0387720542382335,\n",
       " 1.0607626119825673,\n",
       " 1.0967363033047832,\n",
       " 1.156729347014025,\n",
       " 1.2576086937938924,\n",
       " 1.4223586061313234,\n",
       " 1.657351381622555,\n",
       " 1.885964672706193,\n",
       " 1.987160713715409,\n",
       " 1.9997779425331899]"
      ]
     },
     "execution_count": 271,
     "metadata": {},
     "output_type": "execute_result"
    },
    {
     "data": {
      "image/png": "[encoded data removed]",
      "text/plain": [
       "<Figure size 432x288 with 1 Axes>"
      ]
     },
     "metadata": {
      "needs_background": "light"
     },
     "output_type": "display_data"
    }
   ],
   "source": [
    "# A er en liste med norm av elementene Fx^0, Fx^1, ..., Fx^k...\n",
    "# B er en liste med norm av differansene x^k+1-x^k, k=0,1,2,...\n",
    "A = []\n",
    "B = []\n",
    "x_approx = []\n",
    "def newtonsMethod(F, x0, maxIter=50, TOL=1.0e-20):\n",
    "    # Implementation of Newton's root finding method.\n",
    "    # F - the function you wish to find the root for,\n",
    "    # x0 - initial guess,\n",
    "    # maxIter - maximum number of iterations.\n",
    "    DF = jacobian(F)\n",
    "    x1 = x0\n",
    "    for n in range(0, maxIter):\n",
    "        x0 = x1\n",
    "        J = DF(x0)\n",
    "        Fx = F(x0)\n",
    "        x1 = x1 - np.linalg.solve(J,Fx)\n",
    "        A.append((np.linalg.norm(Fx)))\n",
    "        B.append((np.linalg.norm(x1-x0)))\n",
    "        x_approx.append(x1)\n",
    "        if (np.linalg.norm(Fx)<= TOL):\n",
    "            break\n",
    "        if (np.linalg.norm(x1-x0)<= TOL):\n",
    "            break\n",
    "    return x1, A, B\n",
    "\n",
    "#y er listen med løsninger vi får tilnærmet av metoden, mens sol er den faktiske roten av funksjonen.\n",
    "# q er konvergensraten, mens e er en liste med \"feilmarginer\" for approksimasjonen.\n",
    "def rate(y, sol):\n",
    "    q = []\n",
    "    e = [np.linalg.norm(x - sol) for x in y]\n",
    "    for n in range(1, len(e)-3, 1):\n",
    "        q.append(np.log(e[n+1]/e[n])/np.log(e[n]/e[n-1]))\n",
    "    return q\n",
    "\n",
    "def f(x):\n",
    "    return np.array([x[0]-x[1]+3,x[1]**3-27])\n",
    "\n",
    "newtonsMethod(f,np.array([0.1,0.1]),maxIter=50, TOL=1.0e-20)\n",
    "plt.plot(A, \"r\", len(A))\n",
    "plt.plot(B, \"b\", len(B))\n",
    "plt.show\n",
    "\n",
    "rate(x_approx, [0,3])\n"
   ]
  },
  {
   "cell_type": "markdown",
   "metadata": {},
   "source": [
    "We see from the printed values of $q$ that the rate of converges approaches $2$."
   ]
  },
  {
   "cell_type": "markdown",
   "metadata": {},
   "source": [
    "## Linear systems\n",
    "\n",
    "Consider the linear system \n",
    "\t\\begin{equation*}\n",
    "\tA \\mathbf{u} = \\mathbf{f},\n",
    "\t\\end{equation*}\n",
    "where $A$ is a finite-difference discretization of the 2D Laplacian, this is a block tridiagonal matrix, implemented in the code below, and $\\mathbf{f}$ is the vector with all components equal to one."
   ]
  },
  {
   "cell_type": "code",
   "execution_count": null,
   "metadata": {},
   "outputs": [],
   "source": [
    "import numpy as np\n",
    "import matplotlib.pyplot as plt\n",
    "from scipy import sparse\n",
    "from scipy import linalg\n",
    "\n",
    "# Creating the 2D laplacian matrix\n",
    "nx, ny = 10, 10\n",
    "N  = nx*ny\n",
    "main_diag = np.ones(N)*-4.0\n",
    "side_diag = np.ones(N-1)\n",
    "side_diag[np.arange(1,N)%4==0] = 0\n",
    "up_down_diag = np.ones(N-3)\n",
    "diagonals = [main_diag,side_diag,side_diag,up_down_diag,up_down_diag]\n",
    "laplacian = sparse.diags(diagonals, [0, -1, 1,nx,-nx])\n",
    "print(laplacian*np.eye(N))"
   ]
  },
  {
   "cell_type": "markdown",
   "metadata": {},
   "source": [
    "We will now approximate the solution of this linear system using some different iteration methods of the type \n",
    "\t\\begin{equation*}\n",
    "\t\tA_1 \\mathbf{u}^{(k+1)} = A_2 \\mathbf{u}^{(k)}+\\mathbf{f},\n",
    "\t\\end{equation*}\n",
    "\twhere $A = A_1 - A_2$ with $|A_1|\\ne0$. The way we choose the matrices $A_1$ and $A_2$ depends upon the method. We will use the following iterative methods to calculate approximate solutions to $\\mathbf{u}$:\n",
    "\n",
    "a) Jacobi ($A_1 = A_d$).\n",
    "\n",
    "b) Forward Gauss-Seidel ($A_1 = A_d-A_l$).\n",
    "\n",
    "c) Successive over relaxation ($A_1 = A_d-\\omega A_l$, where you can choose the value of $\\omega\\in (0,1)$).\n",
    "\n",
    "Here $A = A_d - A_l - A_u$, where\n",
    "\n",
    "- $A_d$ is the diagonal of $A$,\n",
    "- $A_l$ is $-$(strictly lower triangular part of $A$),\n",
    "- $A_u$ is $-$(strictly upper triangular part of $A$).\n",
    "\n",
    "Consider the residual vector $\\mathbf{r}^k:=\\mathbf{f}-A\\mathbf{u}^k$. We fix $nx=ny=10$ and $N=100$. For each of the above, you should:\n",
    "\n",
    "i) Compare the convergence of each method. Submit  a semi-log plot of the $2$-norm of the relative residual $\\frac{ \\|\\mathbf{r}^k\\|_2 }{ \\| \\mathbf{r}^0\\|_2 }$ versus the number of iterations. Plot all the methods in the same plot for comparison.\n",
    "Experiment choosing different values of $\\omega$ in the SOR method, try to find a value that gives you optimal convergence for this problem.\n"
   ]
  },
  {
   "cell_type": "code",
   "execution_count": null,
   "metadata": {},
   "outputs": [],
   "source": [
    "\"\"\"\n",
    "$I let \\omega\\in[0,1]$ instead of $(0,1)$ which\n",
    "makes $\\omega=0$ give us the Jacobi method and\n",
    "$\\omega=1$ gives us Forward Gauss-Seidel.\n",
    "\"\"\"\n",
    "def SOR(A, f, u0, w, TOL, maxIter = 100):\n",
    "    rk = [f - np.matmul(A,u0)]\n",
    "    rel_rest = [1]\n",
    "    uk = u0\n",
    "    for i in range(0, maxIter):\n",
    "        A1 = np.diag(np.diag(A))+w*(np.tril(A,-1))\n",
    "        A2 = (A1-A)\n",
    "        rk.append(f - np.matmul(A,uk))\n",
    "        rel_rest.append(np.linalg.norm(rk[i+1])/(np.linalg.norm(rk[0])))\n",
    "        uk = np.linalg.solve(A1,np.matmul(A2,uk)+f)\n",
    "    return uk, rel_rest\n",
    "\n",
    "uk1, rel_rest1 = SOR(laplacian*np.eye(N), np.ones(100), np.ones(100), 0, 1)\n",
    "uk2, rel_rest2 = SOR(laplacian*np.eye(N), np.ones(100), np.ones(100), 1, 1)\n",
    "uk3, rel_rest3 = SOR(laplacian*np.eye(N), np.ones(100), np.ones(100), 0.5, 1)\n",
    "\n",
    "plt.semilogy(rel_rest1, 'b')\n",
    "plt.semilogy(rel_rest2, 'g')\n",
    "plt.semilogy(rel_rest3, 'y')\n",
    "plt.show"
   ]
  },
  {
   "cell_type": "markdown",
   "metadata": {},
   "source": [
    "ii) Implement a stopping criterion for the three methods as you have done for the Newton method. Record the relative time each method takes per iteration, and the rime needed to obtain a norm of the relative residual below toleances  $TOL=1e-7$ and $TOL=1e-14$. Make a table with the results for each method."
   ]
  },
  {
   "cell_type": "code",
   "execution_count": null,
   "metadata": {},
   "outputs": [],
   "source": [
    "import time\n",
    "from tabulate import tabulate\n",
    "\"\"\"\n",
    "As above I define a general function for SOR such that edgecases w=0,1 gives us the two other methods.\n",
    "I decided not to have any time measurement inside the function.\n",
    "\"\"\"\n",
    "def SOR(A, f, u0, w, TOL, maxIter = 100):\n",
    "    rk = [f - np.matmul(A,u0)]\n",
    "    rel_rest = [1]\n",
    "    uk = u0\n",
    "    for i in range(0, maxIter):\n",
    "        A1 = np.diag(np.diag(A))+w*(np.tril(A,-1))\n",
    "        A2 = (A1-A)\n",
    "        rk.append(f - np.matmul(A,uk))\n",
    "        rel_rest.append(np.linalg.norm(rk[i+1])/(np.linalg.norm(rk[0])))\n",
    "        uk = np.linalg.solve(A1,np.matmul(A2,uk)+f)\n",
    "        if rel_rest[i] <= TOL:\n",
    "            break\n",
    "    return uk, rel_rest\n",
    "# Here I time the program. I measure how long it takes to run the entire method and find the average per iteration\n",
    "# by dividing by the number of iterations run by simply using the length of the relative rest array.\n",
    "start_time = time.time()\n",
    "uk4, rel_rest4 = SOR(laplacian*np.eye(N), np.ones(100), np.ones(100), 0, 1.0e-7)\n",
    "time4 = (time.time() - start_time)\n",
    "\n",
    "start_time = time.time()\n",
    "uk5, rel_rest5 = SOR(laplacian*np.eye(N), np.ones(100), np.ones(100), 1, 1.0e-7)\n",
    "time5 = (time.time() - start_time)\n",
    "\n",
    "start_time = time.time()\n",
    "uk6, rel_rest6 = SOR(laplacian*np.eye(N), np.ones(100), np.ones(100), 1.4, 1.0e-7)\n",
    "time6 = (time.time() - start_time)\n",
    "\n",
    "uk7, rel_rest7 = SOR(laplacian*np.eye(N), np.ones(100), np.ones(100), 0, 1.0e-14)\n",
    "time7 = (time.time() - start_time)\n",
    "\n",
    "start_time = time.time()\n",
    "uk8, rel_rest8 = SOR(laplacian*np.eye(N), np.ones(100), np.ones(100), 1, 1.0e-14)\n",
    "time8 = (time.time() - start_time)\n",
    "\n",
    "start_time = time.time()\n",
    "uk9, rel_rest9 = SOR(laplacian*np.eye(N), np.ones(100), np.ones(100), 1.4, 1.0e-14)\n",
    "time9 = (time.time() - start_time)\n",
    "\n",
    "plt.semilogy(rel_rest4, 'b', label = 'Jacobi')\n",
    "plt.semilogy(rel_rest5, 'g', label = 'Gauss-Seidel')\n",
    "plt.semilogy(rel_rest6, 'y', label = 'SOR')\n",
    "plt.legend()\n",
    "\n",
    "table = [\n",
    "    [\"Jacobi Total\", time4, time7],\n",
    "    [\"Jacobi Average\", time4/(len(rel_rest4)-1), time7/(len(rel_rest7)-1)],\n",
    "    [\"Gauss-Seidel Total\", time5, time8],\n",
    "    [\"Gauss-Seidel Average\", time5/(len(rel_rest5)-1), time8/(len(rel_rest8)-1)],\n",
    "    [\"SOR Total\", time6, time9],\n",
    "    [\"SOR Average\", time6/(len(rel_rest6)-1), time9/(len(rel_rest9)-1)]\n",
    "]\n",
    "print(tabulate(table, headers = [\"Method\", \"TOL = 1.0e-7\", \"TOL = 1.0e-14\" ]))"
   ]
  },
  {
   "cell_type": "markdown",
   "metadata": {},
   "source": [
    "iii) Calculate the spectral radius of $A_1^{-1}A_2$ and see how that relates to convergence of the method. Make a semi-log plot for comparison. \n",
    "\n",
    "<div class=\"alert alert-block alert-info\">\n",
    "<b>Hint:</b> Python's \n",
    "    <pre>numpy.linalg.eigvals(A)</pre>\n",
    "function returns the eigenvalues of $A$.\n",
    "</div>"
   ]
  },
  {
   "cell_type": "code",
   "execution_count": 291,
   "metadata": {},
   "outputs": [
    {
     "data": {
      "text/plain": [
       "<function matplotlib.pyplot.show(*args, **kw)>"
      ]
     },
     "execution_count": 291,
     "metadata": {},
     "output_type": "execute_result"
    },
    {
     "data": {
      "image/png": "[encoded data removed]",
      "text/plain": [
       "<Figure size 432x288 with 1 Axes>"
      ]
     },
     "metadata": {
      "needs_background": "light"
     },
     "output_type": "display_data"
    }
   ],
   "source": [
    "def spectral_radius(w):\n",
    "    A = laplacian*np.eye(N)\n",
    "    A1 = np.diag(np.diag(A))+w*(np.tril(A,-1))\n",
    "    A2 = (A1-A)\n",
    "    eig = np.linalg.eigvals(np.matmul(np.linalg.inv(A1), A2))\n",
    "    radius = np.linalg.norm(eig, np.inf)\n",
    "    return radius\n",
    "\n",
    "spectral_radius(1.4)\n",
    "\n",
    "def test():\n",
    "    r = []\n",
    "    j = 1\n",
    "    omega = []\n",
    "    rest = []\n",
    "    while j <= 2:\n",
    "        uj, rel_rest_j = SOR(laplacian*np.eye(N), np.ones(100), np.ones(100), j, 1.0e-7)\n",
    "        r.append(spectral_radius(j))\n",
    "        j += 0.1\n",
    "        omega.append(j)\n",
    "        rest.append(rel_rest_j)\n",
    "        plt.semilogy(rel_rest_j)\n",
    "        \n",
    "    return r, rest, omega\n",
    "r, rest, omega = test()\n",
    "\n",
    "\n",
    "plt.show\n",
    "# The plot indicates that omega around 1.4 gives the lowest spectral radius, so we choose omega = 1.4 \n",
    "# for our computations in the preceding exercise to compare the relative time of the methods."
   ]
  },
  {
   "cell_type": "markdown",
   "metadata": {},
   "source": [
    "We know a matrix $T$ is convergent iff its spectral radius $\\rho(T)$ is less than $1$. We should also expect faster convergence with a smaller radius."
   ]
  },
  {
   "cell_type": "code",
   "execution_count": 293,
   "metadata": {},
   "outputs": [
    {
     "data": {
      "image/png": "[encoded data removed]",
      "text/plain": [
       "<Figure size 432x288 with 1 Axes>"
      ]
     },
     "metadata": {
      "needs_background": "light"
     },
     "output_type": "display_data"
    }
   ],
   "source": [
    "# plotting the relationship between omega and the spectral radius to find omega such that the spectral radius is\n",
    "# as small as possible:\n",
    "\n",
    "plt.semilogy(omega, r)\n",
    "plt.show()\n",
    "\n",
    "# The plot indicates that omega around 1.4 gives the lowest spectral radius, so we choose omega = 1.4 \n",
    "# for our computations in the preceding exercise to compare the relative time of the methods."
   ]
  },
  {
   "cell_type": "code",
   "execution_count": null,
   "metadata": {},
   "outputs": [],
   "source": []
  }
 ],
 "metadata": {
  "kernelspec": {
   "display_name": "Python 3",
   "language": "python",
   "name": "python3"
  },
  "language_info": {
   "codemirror_mode": {
    "name": "ipython",
    "version": 3
   },
   "file_extension": ".py",
   "mimetype": "text/x-python",
   "name": "python",
   "nbconvert_exporter": "python",
   "pygments_lexer": "ipython3",
   "version": "3.7.4"
  }
 },
 "nbformat": 4,
 "nbformat_minor": 2
}
