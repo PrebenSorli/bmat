{
 "cells": [
  {
   "cell_type": "markdown",
   "metadata": {},
   "source": [
    "We want to verify that our Singular Value Decomposition of a matrix A is correct and that $U$, $V$ and $\\Sigma$ are indeed matrices satisfying the properties of the SVD."
   ]
  },
  {
   "cell_type": "code",
   "execution_count": 15,
   "metadata": {},
   "outputs": [
    {
     "name": "stdout",
     "output_type": "stream",
     "text": [
      "[[ 2  0 -1]\n",
      " [ 0  1  0]\n",
      " [-1  0  2]]\n",
      "[[ 0.5         0.70710678  0.5       ]\n",
      " [ 0.70710678  0.         -0.70710678]\n",
      " [ 0.5        -0.70710678  0.5       ]]\n",
      "[[1 0 0]\n",
      " [0 3 0]\n",
      " [0 0 1]]\n",
      "[[ 2.  0. -1.]\n",
      " [ 0.  1.  0.]\n",
      " [-1.  0.  2.]]\n",
      "[[1.00000000e+00 0.00000000e+00 8.32667268e-17]\n",
      " [0.00000000e+00 1.00000000e+00 0.00000000e+00]\n",
      " [8.32667268e-17 0.00000000e+00 1.00000000e+00]]\n",
      "[[1.00000000e+00 0.00000000e+00 8.32667268e-17]\n",
      " [0.00000000e+00 1.00000000e+00 0.00000000e+00]\n",
      " [8.32667268e-17 0.00000000e+00 1.00000000e+00]]\n",
      "[[1 0 0]\n",
      " [0 3 0]\n",
      " [0 0 1]]\n"
     ]
    }
   ],
   "source": [
    "import numpy as np\n",
    "import numpy.linalg as LA\n",
    "\n",
    "def svdVerifier(A, U, V, Sigma):\n",
    "    print( np.matmul(U, np.matmul(Sigma, V)) )\n",
    "    print( np.matmul(U, np.transpose(U)) )\n",
    "    print( np.matmul(V, np.transpose(V)))\n",
    "    print( Sigma )\n",
    "\n",
    "A = np.array([[2, 0 , -1], [0, 1, 0], [-1, 0, 2]])\n",
    "\n",
    "U = np.array([[1/2, 1/(np.sqrt(2)), 1/2], [1/(np.sqrt(2)), 0, -1/(np.sqrt(2))], [1/2, -1/(np.sqrt(2)), 1/2]])\n",
    "\n",
    "Sigma = np.array([[1, 0, 0], [0, 3, 0], [0, 0, 1]])\n",
    "\n",
    "print(A)\n",
    "print(U)\n",
    "print(Sigma)\n",
    "\n",
    "svdVerifier(A, U, U, Sigma)"
   ]
  },
  {
   "cell_type": "markdown",
   "metadata": {},
   "source": [
    "We see that our SVD is correct; $U\\Sigma V^T = A$, $UU^T=I$, $VV^T=I$, and $\\Sigma$ is the matrix with the singular  values of $AA^T$ on its diagonal."
   ]
  },
  {
   "cell_type": "code",
   "execution_count": null,
   "metadata": {},
   "outputs": [],
   "source": []
  }
 ],
 "metadata": {
  "kernelspec": {
   "display_name": "Python 3",
   "language": "python",
   "name": "python3"
  },
  "language_info": {
   "codemirror_mode": {
    "name": "ipython",
    "version": 3
   },
   "file_extension": ".py",
   "mimetype": "text/x-python",
   "name": "python",
   "nbconvert_exporter": "python",
   "pygments_lexer": "ipython3",
   "version": "3.7.4"
  }
 },
 "nbformat": 4,
 "nbformat_minor": 2
}
